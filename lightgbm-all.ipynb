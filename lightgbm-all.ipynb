{
 "cells": [
  {
   "cell_type": "markdown",
   "id": "e30a90d1",
   "metadata": {
    "id": "IELL8z8wuhb5",
    "papermill": {
     "duration": 0.016496,
     "end_time": "2022-01-19T06:02:42.454712",
     "exception": false,
     "start_time": "2022-01-19T06:02:42.438216",
     "status": "completed"
    },
    "tags": []
   },
   "source": [
    "# Machine Learning\n",
    "## Final Project LightGBM Model"
   ]
  },
  {
   "cell_type": "code",
   "execution_count": 1,
   "id": "3b3e6cc6",
   "metadata": {
    "execution": {
     "iopub.execute_input": "2022-01-19T06:02:42.492777Z",
     "iopub.status.busy": "2022-01-19T06:02:42.491440Z",
     "iopub.status.idle": "2022-01-19T06:02:44.561446Z",
     "shell.execute_reply": "2022-01-19T06:02:44.560734Z",
     "shell.execute_reply.started": "2022-01-18T20:19:30.409909Z"
    },
    "id": "WkyKv1DfuhcA",
    "papermill": {
     "duration": 2.089231,
     "end_time": "2022-01-19T06:02:44.561642",
     "exception": false,
     "start_time": "2022-01-19T06:02:42.472411",
     "status": "completed"
    },
    "tags": []
   },
   "outputs": [
    {
     "data": {
      "text/html": [
       "<style type='text/css'>\n",
       ".datatable table.frame { margin-bottom: 0; }\n",
       ".datatable table.frame thead { border-bottom: none; }\n",
       ".datatable table.frame tr.coltypes td {  color: #FFFFFF;  line-height: 6px;  padding: 0 0.5em;}\n",
       ".datatable .bool    { background: #DDDD99; }\n",
       ".datatable .object  { background: #565656; }\n",
       ".datatable .int     { background: #5D9E5D; }\n",
       ".datatable .float   { background: #4040CC; }\n",
       ".datatable .str     { background: #CC4040; }\n",
       ".datatable .time    { background: #40CC40; }\n",
       ".datatable .row_index {  background: var(--jp-border-color3);  border-right: 1px solid var(--jp-border-color0);  color: var(--jp-ui-font-color3);  font-size: 9px;}\n",
       ".datatable .frame tbody td { text-align: left; }\n",
       ".datatable .frame tr.coltypes .row_index {  background: var(--jp-border-color0);}\n",
       ".datatable th:nth-child(2) { padding-left: 12px; }\n",
       ".datatable .hellipsis {  color: var(--jp-cell-editor-border-color);}\n",
       ".datatable .vellipsis {  background: var(--jp-layout-color0);  color: var(--jp-cell-editor-border-color);}\n",
       ".datatable .na {  color: var(--jp-cell-editor-border-color);  font-size: 80%;}\n",
       ".datatable .sp {  opacity: 0.25;}\n",
       ".datatable .footer { font-size: 9px; }\n",
       ".datatable .frame_dimensions {  background: var(--jp-border-color3);  border-top: 1px solid var(--jp-border-color0);  color: var(--jp-ui-font-color3);  display: inline-block;  opacity: 0.6;  padding: 1px 10px 1px 5px;}\n",
       "</style>\n"
      ],
      "text/plain": [
       "<IPython.core.display.HTML object>"
      ]
     },
     "metadata": {},
     "output_type": "display_data"
    }
   ],
   "source": [
    "import pandas as pd\n",
    "import numpy as np\n",
    "import lightgbm as lgb\n",
    "from sklearn.linear_model import LassoCV"
   ]
  },
  {
   "cell_type": "code",
   "execution_count": 2,
   "id": "76db52ed",
   "metadata": {
    "execution": {
     "iopub.execute_input": "2022-01-19T06:02:44.596135Z",
     "iopub.status.busy": "2022-01-19T06:02:44.595385Z",
     "iopub.status.idle": "2022-01-19T06:02:44.603395Z",
     "shell.execute_reply": "2022-01-19T06:02:44.602846Z",
     "shell.execute_reply.started": "2022-01-18T20:19:32.424207Z"
    },
    "id": "0g__lDqPuhcB",
    "papermill": {
     "duration": 0.02613,
     "end_time": "2022-01-19T06:02:44.603550",
     "exception": false,
     "start_time": "2022-01-19T06:02:44.577420",
     "status": "completed"
    },
    "tags": []
   },
   "outputs": [],
   "source": [
    "N_ESTIMATORS = 8000\n",
    "NUM_LEAVES = 400\n",
    "LEARNING_RATE = 1.5\n",
    "SEED = 1231\n",
    "DEVICE_TYPE = \"cpu\"\n",
    "\n",
    "SUP_DATA = 1\n",
    "TEST = 0\n",
    "ASSETS_COMBINATIONS = 0\n",
    "FEATURE_ENGINEERING = 0\n",
    "\n",
    "feature_axis = 1\n",
    "\n",
    "if (TEST):\n",
    "    lgb_params = {\n",
    "        \"objective\":\"regression\",\n",
    "        \"n_estimators\":N_ESTIMATORS,     \n",
    "        \"num_leaves\":NUM_LEAVES,      \n",
    "        \"learning_rate\":LEARNING_RATE,   \n",
    "        \"seed\":SEED,\n",
    "        \"tree_learner\":\"feature\",\n",
    "        \"feature_fraction\":0.88,\n",
    "        \"verbose\":1,\n",
    "        \"device_type\":DEVICE_TYPE}\n",
    "else:\n",
    "    lgb_params = {\n",
    "        \"objective\":\"regression\",\n",
    "        \"n_estimators\":N_ESTIMATORS,     \n",
    "        \"num_leaves\":NUM_LEAVES,      \n",
    "        \"learning_rate\":LEARNING_RATE,   \n",
    "        \"seed\":SEED,\n",
    "        \"verbose\":1,\n",
    "        \"device_type\":DEVICE_TYPE}"
   ]
  },
  {
   "cell_type": "code",
   "execution_count": 3,
   "id": "02a06df2",
   "metadata": {
    "execution": {
     "iopub.execute_input": "2022-01-19T06:02:44.638799Z",
     "iopub.status.busy": "2022-01-19T06:02:44.638144Z",
     "iopub.status.idle": "2022-01-19T06:02:44.645462Z",
     "shell.execute_reply": "2022-01-19T06:02:44.646090Z",
     "shell.execute_reply.started": "2022-01-18T20:19:32.435523Z"
    },
    "id": "cC5Hl5sduhcC",
    "papermill": {
     "duration": 0.027652,
     "end_time": "2022-01-19T06:02:44.646256",
     "exception": false,
     "start_time": "2022-01-19T06:02:44.618604",
     "status": "completed"
    },
    "tags": []
   },
   "outputs": [
    {
     "name": "stdout",
     "output_type": "stream",
     "text": [
      "/kaggle/input/g-research-crypto-forecasting/example_sample_submission.csv\n",
      "/kaggle/input/g-research-crypto-forecasting/asset_details.csv\n",
      "/kaggle/input/g-research-crypto-forecasting/example_test.csv\n",
      "/kaggle/input/g-research-crypto-forecasting/train.csv\n",
      "/kaggle/input/g-research-crypto-forecasting/supplemental_train.csv\n",
      "/kaggle/input/g-research-crypto-forecasting/gresearch_crypto/competition.cpython-37m-x86_64-linux-gnu.so\n",
      "/kaggle/input/g-research-crypto-forecasting/gresearch_crypto/__init__.py\n"
     ]
    }
   ],
   "source": [
    "import os\n",
    "for dirname, _, filenames in os.walk('/kaggle/input'):\n",
    "    for filename in filenames:\n",
    "        print(os.path.join(dirname, filename))"
   ]
  },
  {
   "cell_type": "code",
   "execution_count": 4,
   "id": "359f34dc",
   "metadata": {
    "execution": {
     "iopub.execute_input": "2022-01-19T06:02:44.681216Z",
     "iopub.status.busy": "2022-01-19T06:02:44.680312Z",
     "iopub.status.idle": "2022-01-19T06:02:44.698739Z",
     "shell.execute_reply": "2022-01-19T06:02:44.699282Z",
     "shell.execute_reply.started": "2022-01-18T20:19:32.461513Z"
    },
    "papermill": {
     "duration": 0.037625,
     "end_time": "2022-01-19T06:02:44.699470",
     "exception": false,
     "start_time": "2022-01-19T06:02:44.661845",
     "status": "completed"
    },
    "tags": []
   },
   "outputs": [],
   "source": [
    "import gresearch_crypto\n",
    "env = gresearch_crypto.make_env()\n",
    "iter_test = env.iter_test()"
   ]
  },
  {
   "cell_type": "code",
   "execution_count": 5,
   "id": "fe500805",
   "metadata": {
    "execution": {
     "iopub.execute_input": "2022-01-19T06:02:44.738685Z",
     "iopub.status.busy": "2022-01-19T06:02:44.737868Z",
     "iopub.status.idle": "2022-01-19T06:03:50.313871Z",
     "shell.execute_reply": "2022-01-19T06:03:50.312633Z",
     "shell.execute_reply.started": "2022-01-18T20:19:32.487475Z"
    },
    "id": "vY-hEvgtuhcH",
    "papermill": {
     "duration": 65.598908,
     "end_time": "2022-01-19T06:03:50.314101",
     "exception": false,
     "start_time": "2022-01-19T06:02:44.715193",
     "status": "completed"
    },
    "tags": []
   },
   "outputs": [],
   "source": [
    "df_train = pd.read_csv('../input/g-research-crypto-forecasting/train.csv')"
   ]
  },
  {
   "cell_type": "code",
   "execution_count": 6,
   "id": "ff1e279c",
   "metadata": {
    "execution": {
     "iopub.execute_input": "2022-01-19T06:03:50.349832Z",
     "iopub.status.busy": "2022-01-19T06:03:50.349131Z",
     "iopub.status.idle": "2022-01-19T06:03:55.901200Z",
     "shell.execute_reply": "2022-01-19T06:03:55.900352Z",
     "shell.execute_reply.started": "2022-01-18T20:20:31.354862Z"
    },
    "papermill": {
     "duration": 5.571347,
     "end_time": "2022-01-19T06:03:55.901345",
     "exception": false,
     "start_time": "2022-01-19T06:03:50.329998",
     "status": "completed"
    },
    "tags": []
   },
   "outputs": [],
   "source": [
    "if (SUP_DATA):\n",
    "    df_train_sup = pd.read_csv('../input/g-research-crypto-forecasting/supplemental_train.csv')"
   ]
  },
  {
   "cell_type": "code",
   "execution_count": 7,
   "id": "a3247e6d",
   "metadata": {
    "execution": {
     "iopub.execute_input": "2022-01-19T06:03:55.937915Z",
     "iopub.status.busy": "2022-01-19T06:03:55.937221Z",
     "iopub.status.idle": "2022-01-19T06:03:55.944524Z",
     "shell.execute_reply": "2022-01-19T06:03:55.943745Z",
     "shell.execute_reply.started": "2022-01-18T20:20:31.361317Z"
    },
    "papermill": {
     "duration": 0.027333,
     "end_time": "2022-01-19T06:03:55.944683",
     "exception": false,
     "start_time": "2022-01-19T06:03:55.917350",
     "status": "completed"
    },
    "tags": []
   },
   "outputs": [],
   "source": [
    "df_asset = pd.read_csv('../input/g-research-crypto-forecasting/asset_details.csv')"
   ]
  },
  {
   "cell_type": "code",
   "execution_count": 8,
   "id": "d7115235",
   "metadata": {
    "execution": {
     "iopub.execute_input": "2022-01-19T06:03:55.984526Z",
     "iopub.status.busy": "2022-01-19T06:03:55.983077Z",
     "iopub.status.idle": "2022-01-19T06:04:01.458438Z",
     "shell.execute_reply": "2022-01-19T06:04:01.459024Z",
     "shell.execute_reply.started": "2022-01-18T20:20:31.379252Z"
    },
    "id": "6j6y5o4quhcK",
    "papermill": {
     "duration": 5.497731,
     "end_time": "2022-01-19T06:04:01.459201",
     "exception": false,
     "start_time": "2022-01-19T06:03:55.961470",
     "status": "completed"
    },
    "tags": []
   },
   "outputs": [],
   "source": [
    "df_train = df_train[~df_train.isin([np.nan, np.inf, -np.inf]).any(1)].reset_index(drop=True)"
   ]
  },
  {
   "cell_type": "code",
   "execution_count": 9,
   "id": "c990cc0c",
   "metadata": {
    "execution": {
     "iopub.execute_input": "2022-01-19T06:04:01.495822Z",
     "iopub.status.busy": "2022-01-19T06:04:01.495155Z",
     "iopub.status.idle": "2022-01-19T06:04:02.000722Z",
     "shell.execute_reply": "2022-01-19T06:04:02.000140Z",
     "shell.execute_reply.started": "2022-01-18T20:20:36.698897Z"
    },
    "papermill": {
     "duration": 0.524852,
     "end_time": "2022-01-19T06:04:02.000881",
     "exception": false,
     "start_time": "2022-01-19T06:04:01.476029",
     "status": "completed"
    },
    "tags": []
   },
   "outputs": [],
   "source": [
    "if (SUP_DATA):\n",
    "    df_train_sup = df_train_sup[~df_train_sup.isin([np.nan, np.inf, -np.inf]).any(1)].reset_index(drop=True)"
   ]
  },
  {
   "cell_type": "code",
   "execution_count": 10,
   "id": "10522549",
   "metadata": {
    "execution": {
     "iopub.execute_input": "2022-01-19T06:04:02.056849Z",
     "iopub.status.busy": "2022-01-19T06:04:02.052791Z",
     "iopub.status.idle": "2022-01-19T06:04:02.059310Z",
     "shell.execute_reply": "2022-01-19T06:04:02.059880Z",
     "shell.execute_reply.started": "2022-01-18T20:20:36.705307Z"
    },
    "papermill": {
     "duration": 0.042593,
     "end_time": "2022-01-19T06:04:02.060131",
     "exception": false,
     "start_time": "2022-01-19T06:04:02.017538",
     "status": "completed"
    },
    "tags": []
   },
   "outputs": [],
   "source": [
    "def get_features(df_feat):\n",
    "    df_feat[\"high_div_low\"] = df_feat[\"High\"] / df_feat[\"Low\"]\n",
    "    df_feat[\"open_sub_close\"] = df_feat[\"Open\"] - df_feat[\"Close\"]\n",
    "    df_feat['trade']=df_feat['Close']-df_feat['Open']\n",
    "    df_feat['gtrade']=df_feat['trade']/df_feat['Count']\n",
    "    df_feat['upper_Shadow'] = df_feat['High'] - np.maximum(df_feat['Close'], df_feat['Open'])\n",
    "    df_feat['lower_Shadow'] = np.minimum(df_feat['Close'], df_feat['Open']) - df_feat['Low']    \n",
    "    df_feat['shadow1']=df_feat['trade']/df_feat['Volume']\n",
    "    df_feat['shadow2']=df_feat['upper_Shadow']/df_feat['Low']\n",
    "    df_feat['shadow3']=df_feat['upper_Shadow']/df_feat['Volume']\n",
    "    df_feat['shadow4']=df_feat['lower_Shadow']/df_feat['High']\n",
    "    df_feat['shadow5']=df_feat['lower_Shadow']/df_feat['Volume']    \n",
    "    df_feat['spread'] = df_feat['High'] - df_feat['Low']\n",
    "    df_feat['mean_trade'] = df_feat['Volume']/df_feat['Count']\n",
    "    df_feat['diff1'] = df_feat['Volume'] - df_feat['Count']\n",
    "    df_feat['mean1'] = (df_feat['shadow5'] + df_feat['shadow3']) / 2\n",
    "    df_feat['mean2'] = (df_feat['shadow1'] + df_feat['Volume']) / 2\n",
    "    df_feat['mean3'] = (df_feat['trade'] + df_feat['gtrade']) / 2\n",
    "    df_feat['mean4'] = (df_feat['diff1'] + df_feat['upper_Shadow']) / 2\n",
    "    df_feat['mean5'] = (df_feat['diff1'] + df_feat['lower_Shadow']) / 2\n",
    "    df_feat['UPS'] = (df_feat['High'] - np.maximum(df_feat['Close'], df_feat['Open']))\n",
    "    df_feat['UPS'] = df_feat['UPS']\n",
    "    df_feat['LOS'] = (np.minimum(df_feat['Close'], df_feat['Open']) - df_feat['Low'])\n",
    "    df_feat['LOS'] = df_feat['LOS']\n",
    "    df_feat['RNG'] = ((df_feat['High'] - df_feat['Low']) / df_feat['VWAP'])\n",
    "    df_feat['RNG'] = df_feat['RNG']\n",
    "    df_feat['MOV'] = ((df_feat['Close'] - df_feat['Open']) / df_feat['VWAP'])\n",
    "    df_feat['MOV'] = df_feat['MOV']\n",
    "    df_feat['CLS'] = ((df_feat['Close'] - df_feat['VWAP']) / df_feat['VWAP'])\n",
    "    df_feat['CLS'] = df_feat['CLS']\n",
    "    df_feat[\"Close/Open\"] = df_feat[\"Close\"] / df_feat[\"Open\"]\n",
    "    df_feat[\"Close-Open\"] = df_feat[\"Close\"] - df_feat[\"Open\"]\n",
    "    df_feat[\"High-Low\"] = df_feat[\"High\"] - df_feat[\"Low\"]\n",
    "    df_feat[\"High/Low\"] = df_feat[\"High\"] / df_feat[\"Low\"]\n",
    "    df_feat['Mean'] = df_feat[['Open', 'High', 'Low', 'Close']].mean(axis = feature_axis)\n",
    "    df_feat[\"High/Mean\"] = df_feat[\"High\"] / df_feat[\"Mean\"]\n",
    "    df_feat[\"Low/Mean\"] = df_feat[\"Low\"] / df_feat[\"Mean\"]\n",
    "    df_feat[\"Volume/Count\"] = df_feat[\"Volume\"] / (df_feat[\"Count\"] + 1)\n",
    "    df_feat['Median'] = df_feat[['Open', 'High', 'Low', 'Close']].median(axis = feature_axis)\n",
    "    df_feat['high2mean'] = df_feat['High'] / df_feat['Mean']\n",
    "    df_feat['low2mean'] = df_feat['Low'] / df_feat['Mean']\n",
    "    df_feat['high2median'] = df_feat['High'] / df_feat['Median']\n",
    "    df_feat['low2median'] = df_feat['Low'] / df_feat['Median']\n",
    "    df_feat['volume2count'] = df_feat['Volume'] / (df_feat['Count'] + 1)\n",
    "    return df_feat"
   ]
  },
  {
   "cell_type": "code",
   "execution_count": 11,
   "id": "6f932b2f",
   "metadata": {
    "execution": {
     "iopub.execute_input": "2022-01-19T06:04:02.097074Z",
     "iopub.status.busy": "2022-01-19T06:04:02.096177Z",
     "iopub.status.idle": "2022-01-19T06:04:02.104020Z",
     "shell.execute_reply": "2022-01-19T06:04:02.104570Z",
     "shell.execute_reply.started": "2022-01-18T20:20:36.733348Z"
    },
    "id": "6_peXrMOuhcJ",
    "papermill": {
     "duration": 0.027255,
     "end_time": "2022-01-19T06:04:02.104746",
     "exception": false,
     "start_time": "2022-01-19T06:04:02.077491",
     "status": "completed"
    },
    "tags": []
   },
   "outputs": [],
   "source": [
    "def features_selection(df) :\n",
    "    df_sub = df.drop([\"timestamp\", \"Asset_ID\"], axis=1)\n",
    "    X_sub = df_sub.loc[:, df_sub.columns != \"Target\"]\n",
    "    y_sub = df_sub[\"Target\"]\n",
    "    del df_sub\n",
    "    X_sub = X_sub.fillna(0)\n",
    "    clf = LassoCV(\n",
    "        random_state=SEED, max_iter = 50000, cv = 5\n",
    "        ).fit(X_sub, y_sub)\n",
    "    final_features_l1Reg = X_sub.columns[\n",
    "        (abs(clf.coef_) > 0).flatten()\n",
    "    ]\n",
    "    THRESHOLD = 0.01\n",
    "    corr_value = X_sub.corrwith(y_sub)\n",
    "    corr_abs = abs(corr_value).sort_values(ascending=False)\n",
    "    final_features_corr = corr_abs[corr_abs > THRESHOLD].index\n",
    "    final_features = list(\n",
    "    set(final_features_l1Reg).union(\n",
    "            set(final_features_corr)\n",
    "        )\n",
    "    )\n",
    "    features = final_features\n",
    "    return features"
   ]
  },
  {
   "cell_type": "code",
   "execution_count": 12,
   "id": "fef70f65",
   "metadata": {
    "execution": {
     "iopub.execute_input": "2022-01-19T06:04:02.139628Z",
     "iopub.status.busy": "2022-01-19T06:04:02.138848Z",
     "iopub.status.idle": "2022-01-19T06:04:02.144230Z",
     "shell.execute_reply": "2022-01-19T06:04:02.144779Z",
     "shell.execute_reply.started": "2022-01-18T20:20:36.750606Z"
    },
    "papermill": {
     "duration": 0.024596,
     "end_time": "2022-01-19T06:04:02.144968",
     "exception": false,
     "start_time": "2022-01-19T06:04:02.120372",
     "status": "completed"
    },
    "tags": []
   },
   "outputs": [],
   "source": [
    "def data_preprocess(asset_id):\n",
    "    df = df_train[df_train[\"Asset_ID\"] == asset_id].copy()\n",
    "    if (SUP_DATA):\n",
    "        df = df.append(df_train_sup[df_train_sup[\"Asset_ID\"] == asset_id])\n",
    "    if (FEATURE_ENGINEERING):\n",
    "        df = get_features(df)\n",
    "    return df"
   ]
  },
  {
   "cell_type": "code",
   "execution_count": 13,
   "id": "39f9fb1a",
   "metadata": {
    "execution": {
     "iopub.execute_input": "2022-01-19T06:04:02.181770Z",
     "iopub.status.busy": "2022-01-19T06:04:02.181022Z",
     "iopub.status.idle": "2022-01-19T06:04:02.184661Z",
     "shell.execute_reply": "2022-01-19T06:04:02.185210Z",
     "shell.execute_reply.started": "2022-01-18T20:20:36.762772Z"
    },
    "papermill": {
     "duration": 0.024383,
     "end_time": "2022-01-19T06:04:02.185389",
     "exception": false,
     "start_time": "2022-01-19T06:04:02.161006",
     "status": "completed"
    },
    "tags": []
   },
   "outputs": [],
   "source": [
    "def data_postprocess(df, features):\n",
    "    x = df[features].copy()\n",
    "    return x"
   ]
  },
  {
   "cell_type": "code",
   "execution_count": 14,
   "id": "d2b4f4b3",
   "metadata": {
    "execution": {
     "iopub.execute_input": "2022-01-19T06:04:02.220033Z",
     "iopub.status.busy": "2022-01-19T06:04:02.219229Z",
     "iopub.status.idle": "2022-01-19T06:04:02.227993Z",
     "shell.execute_reply": "2022-01-19T06:04:02.228565Z",
     "shell.execute_reply.started": "2022-01-18T20:20:36.775528Z"
    },
    "id": "oLUiD2PfuhcL",
    "papermill": {
     "duration": 0.027555,
     "end_time": "2022-01-19T06:04:02.228745",
     "exception": false,
     "start_time": "2022-01-19T06:04:02.201190",
     "status": "completed"
    },
    "tags": []
   },
   "outputs": [],
   "source": [
    "def training(asset_id):\n",
    "    if (ASSETS_COMBINATIONS):\n",
    "        if (asset_id == 0):\n",
    "            df = data_preprocess(asset_id)\n",
    "            df = df.append(data_preprocess(3), ignore_index = True)\n",
    "        elif (asset_id == 1):\n",
    "            df = data_preprocess(asset_id)\n",
    "            df = df.append(data_preprocess(6), ignore_index = True)\n",
    "        elif (asset_id == 2):\n",
    "            df = data_preprocess(asset_id)\n",
    "            df = df.append(data_preprocess(9), ignore_index = True)\n",
    "        else:\n",
    "            df = data_preprocess(asset_id)\n",
    "    else:\n",
    "        df = data_preprocess(asset_id)\n",
    "    if (FEATURE_ENGINEERING):\n",
    "        features = features_selection(df)\n",
    "    else:\n",
    "        features = [\"Count\", \"Open\", \"High\", \"Low\", \"Close\", \"Volume\", \"VWAP\", \"timestamp\"]\n",
    "    x = data_postprocess(df, features)\n",
    "    y = df['Target'].copy()\n",
    "    model = lgb.LGBMRegressor(**lgb_params)\n",
    "    model.fit(x, y)\n",
    "    return model, features"
   ]
  },
  {
   "cell_type": "code",
   "execution_count": 15,
   "id": "89cd533e",
   "metadata": {
    "execution": {
     "iopub.execute_input": "2022-01-19T06:04:02.286018Z",
     "iopub.status.busy": "2022-01-19T06:04:02.271891Z",
     "iopub.status.idle": "2022-01-19T07:35:30.999358Z",
     "shell.execute_reply": "2022-01-19T07:35:31.000165Z"
    },
    "id": "yNCOc5juuhcN",
    "papermill": {
     "duration": 5488.755049,
     "end_time": "2022-01-19T07:35:31.001153",
     "exception": false,
     "start_time": "2022-01-19T06:04:02.246104",
     "status": "completed"
    },
    "tags": []
   },
   "outputs": [
    {
     "name": "stdout",
     "output_type": "stream",
     "text": [
      "Training model for Binance Coin\n",
      "[LightGBM] [Warning] Auto-choosing row-wise multi-threading, the overhead of testing was 0.032190 seconds.\n",
      "You can set `force_row_wise=true` to remove the overhead.\n",
      "And if memory is not enough, you can set `force_col_wise=true`.\n",
      "[LightGBM] [Info] Total Bins 2040\n",
      "[LightGBM] [Info] Number of data points in the train set: 2088840, number of used features: 8\n",
      "[LightGBM] [Info] Start training from score 0.000031\n",
      "Training model for Bitcoin\n",
      "[LightGBM] [Warning] Auto-choosing row-wise multi-threading, the overhead of testing was 0.029823 seconds.\n",
      "You can set `force_row_wise=true` to remove the overhead.\n",
      "And if memory is not enough, you can set `force_col_wise=true`.\n",
      "[LightGBM] [Info] Total Bins 2040\n",
      "[LightGBM] [Info] Number of data points in the train set: 2115798, number of used features: 8\n",
      "[LightGBM] [Info] Start training from score -0.000001\n",
      "Training model for Bitcoin Cash\n",
      "[LightGBM] [Warning] Auto-choosing col-wise multi-threading, the overhead of testing was 0.176579 seconds.\n",
      "You can set `force_col_wise=true` to remove the overhead.\n",
      "[LightGBM] [Info] Total Bins 2040\n",
      "[LightGBM] [Info] Number of data points in the train set: 2108463, number of used features: 8\n",
      "[LightGBM] [Info] Start training from score -0.000006\n",
      "Training model for Cardano\n",
      "[LightGBM] [Warning] Auto-choosing col-wise multi-threading, the overhead of testing was 0.090373 seconds.\n",
      "You can set `force_col_wise=true` to remove the overhead.\n",
      "[LightGBM] [Info] Total Bins 2040\n",
      "[LightGBM] [Info] Number of data points in the train set: 1932938, number of used features: 8\n",
      "[LightGBM] [Info] Start training from score -0.000001\n",
      "Training model for Dogecoin\n",
      "[LightGBM] [Warning] Auto-choosing col-wise multi-threading, the overhead of testing was 0.056573 seconds.\n",
      "You can set `force_col_wise=true` to remove the overhead.\n",
      "[LightGBM] [Info] Total Bins 2040\n",
      "[LightGBM] [Info] Number of data points in the train set: 1171663, number of used features: 8\n",
      "[LightGBM] [Info] Start training from score 0.000034\n",
      "Training model for EOS.IO\n",
      "[LightGBM] [Warning] Auto-choosing col-wise multi-threading, the overhead of testing was 0.097316 seconds.\n",
      "You can set `force_col_wise=true` to remove the overhead.\n",
      "[LightGBM] [Info] Total Bins 2040\n",
      "[LightGBM] [Info] Number of data points in the train set: 2112652, number of used features: 8\n",
      "[LightGBM] [Info] Start training from score -0.000002\n",
      "Training model for Ethereum\n",
      "[LightGBM] [Warning] Auto-choosing row-wise multi-threading, the overhead of testing was 0.030375 seconds.\n",
      "You can set `force_row_wise=true` to remove the overhead.\n",
      "And if memory is not enough, you can set `force_col_wise=true`.\n",
      "[LightGBM] [Info] Total Bins 2040\n",
      "[LightGBM] [Info] Number of data points in the train set: 2115680, number of used features: 8\n",
      "[LightGBM] [Info] Start training from score -0.000000\n",
      "Training model for Ethereum Classic\n",
      "[LightGBM] [Warning] Auto-choosing col-wise multi-threading, the overhead of testing was 0.095990 seconds.\n",
      "You can set `force_col_wise=true` to remove the overhead.\n",
      "[LightGBM] [Info] Total Bins 2040\n",
      "[LightGBM] [Info] Number of data points in the train set: 2101609, number of used features: 8\n",
      "[LightGBM] [Info] Start training from score 0.000041\n",
      "Training model for IOTA\n",
      "[LightGBM] [Warning] Auto-choosing col-wise multi-threading, the overhead of testing was 0.071294 seconds.\n",
      "You can set `force_col_wise=true` to remove the overhead.\n",
      "[LightGBM] [Info] Total Bins 2040\n",
      "[LightGBM] [Info] Number of data points in the train set: 1558579, number of used features: 8\n",
      "[LightGBM] [Info] Start training from score 0.000025\n",
      "Training model for Litecoin\n",
      "[LightGBM] [Warning] Auto-choosing row-wise multi-threading, the overhead of testing was 0.030612 seconds.\n",
      "You can set `force_row_wise=true` to remove the overhead.\n",
      "And if memory is not enough, you can set `force_col_wise=true`.\n",
      "[LightGBM] [Info] Total Bins 2040\n",
      "[LightGBM] [Info] Number of data points in the train set: 2115326, number of used features: 8\n",
      "[LightGBM] [Info] Start training from score -0.000012\n",
      "Training model for Maker\n",
      "[LightGBM] [Warning] Auto-choosing col-wise multi-threading, the overhead of testing was 0.038422 seconds.\n",
      "You can set `force_col_wise=true` to remove the overhead.\n",
      "[LightGBM] [Info] Total Bins 2040\n",
      "[LightGBM] [Info] Number of data points in the train set: 788195, number of used features: 8\n",
      "[LightGBM] [Info] Start training from score 0.000002\n",
      "Training model for Monero\n",
      "[LightGBM] [Warning] Auto-choosing col-wise multi-threading, the overhead of testing was 0.077643 seconds.\n",
      "You can set `force_col_wise=true` to remove the overhead.\n",
      "[LightGBM] [Info] Total Bins 2040\n",
      "[LightGBM] [Info] Number of data points in the train set: 1621159, number of used features: 8\n",
      "[LightGBM] [Info] Start training from score 0.000007\n",
      "Training model for Stellar\n",
      "[LightGBM] [Warning] Auto-choosing row-wise multi-threading, the overhead of testing was 0.026920 seconds.\n",
      "You can set `force_row_wise=true` to remove the overhead.\n",
      "And if memory is not enough, you can set `force_col_wise=true`.\n",
      "[LightGBM] [Info] Total Bins 2040\n",
      "[LightGBM] [Info] Number of data points in the train set: 1876741, number of used features: 8\n",
      "[LightGBM] [Info] Start training from score 0.000136\n",
      "Training model for TRON\n",
      "[LightGBM] [Warning] Auto-choosing row-wise multi-threading, the overhead of testing was 0.029148 seconds.\n",
      "You can set `force_row_wise=true` to remove the overhead.\n",
      "And if memory is not enough, you can set `force_col_wise=true`.\n",
      "[LightGBM] [Info] Total Bins 2040\n",
      "[LightGBM] [Info] Number of data points in the train set: 2013248, number of used features: 8\n",
      "[LightGBM] [Info] Start training from score -0.000153\n"
     ]
    }
   ],
   "source": [
    "models = {}\n",
    "models_features = {}\n",
    "for asset_id in range(14):\n",
    "    if (ASSETS_COMBINATIONS):\n",
    "        if (asset_id == 0):\n",
    "            print(\"Training model for\", df_asset[df_asset[\"Asset_ID\"] == asset_id].iloc[0][\"Asset_Name\"], \"and\", df_asset[df_asset[\"Asset_ID\"] == 3].iloc[0][\"Asset_Name\"])\n",
    "            model, features = training(asset_id)\n",
    "            models[asset_id] = model\n",
    "            models[3] = model\n",
    "            models_features[asset_id] = features\n",
    "            models_features[3] = features\n",
    "        elif (asset_id == 1):\n",
    "            print(\"Training model for\", df_asset[df_asset[\"Asset_ID\"] == asset_id].iloc[0][\"Asset_Name\"], \"and\", df_asset[df_asset[\"Asset_ID\"] == 6].iloc[0][\"Asset_Name\"])\n",
    "            model, features = training(asset_id)\n",
    "            models[asset_id] = model\n",
    "            models[6] = model\n",
    "            models_features[asset_id] = features\n",
    "            models_features[6] = features\n",
    "        elif (asset_id == 2):\n",
    "            print(\"Training model for\", df_asset[df_asset[\"Asset_ID\"] == asset_id].iloc[0][\"Asset_Name\"], \"and\", df_asset[df_asset[\"Asset_ID\"] == 9].iloc[0][\"Asset_Name\"])\n",
    "            model, features = training(asset_id)\n",
    "            models[asset_id] = model\n",
    "            models[9] = model\n",
    "            models_features[asset_id] = features\n",
    "            models_features[9] = features\n",
    "        elif (asset_id == 3 or asset_id == 6 or asset_id == 9):\n",
    "            continue\n",
    "        else:\n",
    "            print(\"Training model for\", df_asset[df_asset[\"Asset_ID\"] == asset_id].iloc[0][\"Asset_Name\"])\n",
    "            model, features = training(asset_id)\n",
    "            models[asset_id] = model\n",
    "            models_features[asset_id] = features\n",
    "    else:\n",
    "        print(\"Training model for\", df_asset[df_asset[\"Asset_ID\"] == asset_id].iloc[0][\"Asset_Name\"])\n",
    "        model, features = training(asset_id)\n",
    "        models[asset_id] = model\n",
    "        models_features[asset_id] = features"
   ]
  },
  {
   "cell_type": "code",
   "execution_count": 16,
   "id": "6a1b0d51",
   "metadata": {
    "execution": {
     "iopub.execute_input": "2022-01-19T07:35:31.067387Z",
     "iopub.status.busy": "2022-01-19T07:35:31.063869Z",
     "iopub.status.idle": "2022-01-19T07:35:32.198514Z",
     "shell.execute_reply": "2022-01-19T07:35:32.199098Z"
    },
    "id": "P0HfNhq8uhcN",
    "papermill": {
     "duration": 1.173375,
     "end_time": "2022-01-19T07:35:32.199309",
     "exception": false,
     "start_time": "2022-01-19T07:35:31.025934",
     "status": "completed"
    },
    "tags": []
   },
   "outputs": [
    {
     "name": "stdout",
     "output_type": "stream",
     "text": [
      "This version of the API is not optimized and should not be used to estimate the runtime of your code on the hidden test set.\n"
     ]
    }
   ],
   "source": [
    "feature_axis = 0\n",
    "for i, (df_test, df_pred) in enumerate(iter_test):\n",
    "    for j, df_row in df_test.iterrows():   \n",
    "        if (FEATURE_ENGINEERING):\n",
    "            df = get_features(df_row)\n",
    "        else:\n",
    "            df = df_row\n",
    "        model = models[df['Asset_ID']]\n",
    "        x_test = data_postprocess(df, models_features[df['Asset_ID']])\n",
    "        y_pred = model.predict(pd.DataFrame([x_test]))[0]\n",
    "        df_pred.loc[df_pred['row_id'] == df_row['row_id'], 'Target'] = y_pred    \n",
    "    env.predict(df_pred)"
   ]
  }
 ],
 "metadata": {
  "kernelspec": {
   "display_name": "Python 3",
   "language": "python",
   "name": "python3"
  },
  "language_info": {
   "codemirror_mode": {
    "name": "ipython",
    "version": 3
   },
   "file_extension": ".py",
   "mimetype": "text/x-python",
   "name": "python",
   "nbconvert_exporter": "python",
   "pygments_lexer": "ipython3",
   "version": "3.7.12"
  },
  "papermill": {
   "default_parameters": {},
   "duration": 5582.010045,
   "end_time": "2022-01-19T07:35:34.562127",
   "environment_variables": {},
   "exception": null,
   "input_path": "__notebook__.ipynb",
   "output_path": "__notebook__.ipynb",
   "parameters": {},
   "start_time": "2022-01-19T06:02:32.552082",
   "version": "2.3.3"
  }
 },
 "nbformat": 4,
 "nbformat_minor": 5
}
